{
 "cells": [
  {
   "cell_type": "code",
   "execution_count": 1,
   "id": "e8369419-dbdd-4285-8641-dad90c87c138",
   "metadata": {},
   "outputs": [],
   "source": [
    "from automl.schema.descriptors import ColumnDescriptor, DatasetDescriptor\n",
    "\n",
    "from sklearn.datasets import fetch_openml"
   ]
  },
  {
   "cell_type": "code",
   "execution_count": 2,
   "id": "33700624-b504-4b72-b691-5918a47e5326",
   "metadata": {},
   "outputs": [
    {
     "name": "stdout",
     "output_type": "stream",
     "text": [
      "dataset Shape (45211, 17)\n"
     ]
    },
    {
     "data": {
      "text/html": [
       "<div>\n",
       "<style scoped>\n",
       "    .dataframe tbody tr th:only-of-type {\n",
       "        vertical-align: middle;\n",
       "    }\n",
       "\n",
       "    .dataframe tbody tr th {\n",
       "        vertical-align: top;\n",
       "    }\n",
       "\n",
       "    .dataframe thead th {\n",
       "        text-align: right;\n",
       "    }\n",
       "</style>\n",
       "<table border=\"1\" class=\"dataframe\">\n",
       "  <thead>\n",
       "    <tr style=\"text-align: right;\">\n",
       "      <th></th>\n",
       "      <th>V1</th>\n",
       "      <th>V2</th>\n",
       "      <th>V3</th>\n",
       "      <th>V4</th>\n",
       "      <th>V5</th>\n",
       "      <th>V6</th>\n",
       "      <th>V7</th>\n",
       "      <th>V8</th>\n",
       "      <th>V9</th>\n",
       "      <th>V10</th>\n",
       "      <th>V11</th>\n",
       "      <th>V12</th>\n",
       "      <th>V13</th>\n",
       "      <th>V14</th>\n",
       "      <th>V15</th>\n",
       "      <th>V16</th>\n",
       "      <th>Class</th>\n",
       "    </tr>\n",
       "  </thead>\n",
       "  <tbody>\n",
       "    <tr>\n",
       "      <th>0</th>\n",
       "      <td>58</td>\n",
       "      <td>management</td>\n",
       "      <td>married</td>\n",
       "      <td>tertiary</td>\n",
       "      <td>no</td>\n",
       "      <td>2143</td>\n",
       "      <td>yes</td>\n",
       "      <td>no</td>\n",
       "      <td>unknown</td>\n",
       "      <td>5</td>\n",
       "      <td>may</td>\n",
       "      <td>261</td>\n",
       "      <td>1</td>\n",
       "      <td>-1</td>\n",
       "      <td>0</td>\n",
       "      <td>unknown</td>\n",
       "      <td>1</td>\n",
       "    </tr>\n",
       "    <tr>\n",
       "      <th>1</th>\n",
       "      <td>44</td>\n",
       "      <td>technician</td>\n",
       "      <td>single</td>\n",
       "      <td>secondary</td>\n",
       "      <td>no</td>\n",
       "      <td>29</td>\n",
       "      <td>yes</td>\n",
       "      <td>no</td>\n",
       "      <td>unknown</td>\n",
       "      <td>5</td>\n",
       "      <td>may</td>\n",
       "      <td>151</td>\n",
       "      <td>1</td>\n",
       "      <td>-1</td>\n",
       "      <td>0</td>\n",
       "      <td>unknown</td>\n",
       "      <td>1</td>\n",
       "    </tr>\n",
       "    <tr>\n",
       "      <th>2</th>\n",
       "      <td>33</td>\n",
       "      <td>entrepreneur</td>\n",
       "      <td>married</td>\n",
       "      <td>secondary</td>\n",
       "      <td>no</td>\n",
       "      <td>2</td>\n",
       "      <td>yes</td>\n",
       "      <td>yes</td>\n",
       "      <td>unknown</td>\n",
       "      <td>5</td>\n",
       "      <td>may</td>\n",
       "      <td>76</td>\n",
       "      <td>1</td>\n",
       "      <td>-1</td>\n",
       "      <td>0</td>\n",
       "      <td>unknown</td>\n",
       "      <td>1</td>\n",
       "    </tr>\n",
       "    <tr>\n",
       "      <th>3</th>\n",
       "      <td>47</td>\n",
       "      <td>blue-collar</td>\n",
       "      <td>married</td>\n",
       "      <td>unknown</td>\n",
       "      <td>no</td>\n",
       "      <td>1506</td>\n",
       "      <td>yes</td>\n",
       "      <td>no</td>\n",
       "      <td>unknown</td>\n",
       "      <td>5</td>\n",
       "      <td>may</td>\n",
       "      <td>92</td>\n",
       "      <td>1</td>\n",
       "      <td>-1</td>\n",
       "      <td>0</td>\n",
       "      <td>unknown</td>\n",
       "      <td>1</td>\n",
       "    </tr>\n",
       "    <tr>\n",
       "      <th>4</th>\n",
       "      <td>33</td>\n",
       "      <td>unknown</td>\n",
       "      <td>single</td>\n",
       "      <td>unknown</td>\n",
       "      <td>no</td>\n",
       "      <td>1</td>\n",
       "      <td>no</td>\n",
       "      <td>no</td>\n",
       "      <td>unknown</td>\n",
       "      <td>5</td>\n",
       "      <td>may</td>\n",
       "      <td>198</td>\n",
       "      <td>1</td>\n",
       "      <td>-1</td>\n",
       "      <td>0</td>\n",
       "      <td>unknown</td>\n",
       "      <td>1</td>\n",
       "    </tr>\n",
       "  </tbody>\n",
       "</table>\n",
       "</div>"
      ],
      "text/plain": [
       "   V1            V2       V3         V4  V5    V6   V7   V8       V9  V10  \\\n",
       "0  58    management  married   tertiary  no  2143  yes   no  unknown    5   \n",
       "1  44    technician   single  secondary  no    29  yes   no  unknown    5   \n",
       "2  33  entrepreneur  married  secondary  no     2  yes  yes  unknown    5   \n",
       "3  47   blue-collar  married    unknown  no  1506  yes   no  unknown    5   \n",
       "4  33       unknown   single    unknown  no     1   no   no  unknown    5   \n",
       "\n",
       "   V11  V12  V13  V14  V15      V16 Class  \n",
       "0  may  261    1   -1    0  unknown     1  \n",
       "1  may  151    1   -1    0  unknown     1  \n",
       "2  may   76    1   -1    0  unknown     1  \n",
       "3  may   92    1   -1    0  unknown     1  \n",
       "4  may  198    1   -1    0  unknown     1  "
      ]
     },
     "execution_count": 2,
     "metadata": {},
     "output_type": "execute_result"
    }
   ],
   "source": [
    "# 1461,31,29\n",
    "x = fetch_openml(data_id=1461, as_frame=True, parser=\"pandas\")\n",
    "dataset = x[\"frame\"]\n",
    "print(f\"dataset Shape {dataset.shape}\")\n",
    "dataset.head()"
   ]
  },
  {
   "cell_type": "code",
   "execution_count": 3,
   "id": "e3f6e8ed-e520-45a0-8553-1bcb79e698fd",
   "metadata": {},
   "outputs": [
    {
     "data": {
      "text/plain": [
       "DatasetDescriptor(row_count=45211, cloumns_info=[ColumnDescriptor(name='V1', col_type=<ColumnType.FEATURES: 'features'>, dtype=<Dtypes.INTERGER: 'integer'>, feature_type=<FeatureType.Continuous: 'Continuous'>, count=45211, mean=40.93621021432837, median=39.0, mode=32.0, null_count=0, unique_valus=77, imputation_scheme=None, imputation_value=None, is_selected=True), ColumnDescriptor(name='V2', col_type=<ColumnType.FEATURES: 'features'>, dtype=<Dtypes.CATEGORICAL: 'categorical'>, feature_type=<FeatureType.Ordinal: 'Ordinal'>, count=45211, mean=None, median=None, mode='blue-collar', null_count=0, unique_valus=12, imputation_scheme=None, imputation_value=None, is_selected=True), ColumnDescriptor(name='V3', col_type=<ColumnType.FEATURES: 'features'>, dtype=<Dtypes.CATEGORICAL: 'categorical'>, feature_type=<FeatureType.Ordinal: 'Ordinal'>, count=45211, mean=None, median=None, mode='married', null_count=0, unique_valus=3, imputation_scheme=None, imputation_value=None, is_selected=True), ColumnDescriptor(name='V4', col_type=<ColumnType.FEATURES: 'features'>, dtype=<Dtypes.CATEGORICAL: 'categorical'>, feature_type=<FeatureType.Ordinal: 'Ordinal'>, count=45211, mean=None, median=None, mode='secondary', null_count=0, unique_valus=4, imputation_scheme=None, imputation_value=None, is_selected=True), ColumnDescriptor(name='V5', col_type=<ColumnType.FEATURES: 'features'>, dtype=<Dtypes.CATEGORICAL: 'categorical'>, feature_type=<FeatureType.Ordinal: 'Ordinal'>, count=45211, mean=None, median=None, mode='no', null_count=0, unique_valus=2, imputation_scheme=None, imputation_value=None, is_selected=True), ColumnDescriptor(name='V6', col_type=<ColumnType.FEATURES: 'features'>, dtype=<Dtypes.INTERGER: 'integer'>, feature_type=<FeatureType.Continuous: 'Continuous'>, count=45211, mean=1362.2720576850766, median=448.0, mode=0.0, null_count=0, unique_valus=7168, imputation_scheme=None, imputation_value=None, is_selected=True), ColumnDescriptor(name='V7', col_type=<ColumnType.FEATURES: 'features'>, dtype=<Dtypes.CATEGORICAL: 'categorical'>, feature_type=<FeatureType.Ordinal: 'Ordinal'>, count=45211, mean=None, median=None, mode='yes', null_count=0, unique_valus=2, imputation_scheme=None, imputation_value=None, is_selected=True), ColumnDescriptor(name='V8', col_type=<ColumnType.FEATURES: 'features'>, dtype=<Dtypes.CATEGORICAL: 'categorical'>, feature_type=<FeatureType.Ordinal: 'Ordinal'>, count=45211, mean=None, median=None, mode='no', null_count=0, unique_valus=2, imputation_scheme=None, imputation_value=None, is_selected=True), ColumnDescriptor(name='V9', col_type=<ColumnType.FEATURES: 'features'>, dtype=<Dtypes.CATEGORICAL: 'categorical'>, feature_type=<FeatureType.Ordinal: 'Ordinal'>, count=45211, mean=None, median=None, mode='cellular', null_count=0, unique_valus=3, imputation_scheme=None, imputation_value=None, is_selected=True), ColumnDescriptor(name='V10', col_type=<ColumnType.FEATURES: 'features'>, dtype=<Dtypes.INTERGER: 'integer'>, feature_type=<FeatureType.Continuous: 'Continuous'>, count=45211, mean=15.80641879188693, median=16.0, mode=20.0, null_count=0, unique_valus=31, imputation_scheme=None, imputation_value=None, is_selected=True), ColumnDescriptor(name='V11', col_type=<ColumnType.FEATURES: 'features'>, dtype=<Dtypes.CATEGORICAL: 'categorical'>, feature_type=<FeatureType.Ordinal: 'Ordinal'>, count=45211, mean=None, median=None, mode='may', null_count=0, unique_valus=12, imputation_scheme=None, imputation_value=None, is_selected=True), ColumnDescriptor(name='V12', col_type=<ColumnType.FEATURES: 'features'>, dtype=<Dtypes.INTERGER: 'integer'>, feature_type=<FeatureType.Continuous: 'Continuous'>, count=45211, mean=258.1630797814691, median=180.0, mode=124.0, null_count=0, unique_valus=1573, imputation_scheme=None, imputation_value=None, is_selected=True), ColumnDescriptor(name='V13', col_type=<ColumnType.FEATURES: 'features'>, dtype=<Dtypes.INTERGER: 'integer'>, feature_type=<FeatureType.Continuous: 'Continuous'>, count=45211, mean=2.763840658246887, median=2.0, mode=1.0, null_count=0, unique_valus=48, imputation_scheme=None, imputation_value=None, is_selected=True), ColumnDescriptor(name='V14', col_type=<ColumnType.FEATURES: 'features'>, dtype=<Dtypes.INTERGER: 'integer'>, feature_type=<FeatureType.Continuous: 'Continuous'>, count=45211, mean=40.19782796222158, median=-1.0, mode=-1.0, null_count=0, unique_valus=559, imputation_scheme=None, imputation_value=None, is_selected=True), ColumnDescriptor(name='V15', col_type=<ColumnType.FEATURES: 'features'>, dtype=<Dtypes.INTERGER: 'integer'>, feature_type=<FeatureType.Continuous: 'Continuous'>, count=45211, mean=0.5803233726305546, median=0.0, mode=0.0, null_count=0, unique_valus=41, imputation_scheme=None, imputation_value=None, is_selected=True), ColumnDescriptor(name='V16', col_type=<ColumnType.FEATURES: 'features'>, dtype=<Dtypes.CATEGORICAL: 'categorical'>, feature_type=<FeatureType.Ordinal: 'Ordinal'>, count=45211, mean=None, median=None, mode='unknown', null_count=0, unique_valus=4, imputation_scheme=None, imputation_value=None, is_selected=True), ColumnDescriptor(name='Class', col_type=<ColumnType.TARGET: 'target'>, dtype=<Dtypes.CATEGORICAL: 'categorical'>, feature_type=<FeatureType.Ordinal: 'Ordinal'>, count=45211, mean=None, median=None, mode='1', null_count=0, unique_valus=2, imputation_scheme=None, imputation_value=None, is_selected=True)], duplicate_rows=[], duplicate_columns=[])"
      ]
     },
     "execution_count": 3,
     "metadata": {},
     "output_type": "execute_result"
    }
   ],
   "source": [
    "DatasetDescriptor.build_from_dataset(dataset, target_columns=[\"Class\"])"
   ]
  },
  {
   "cell_type": "code",
   "execution_count": 6,
   "id": "b334e8d7-9710-4e46-97b5-ac2cc6acad60",
   "metadata": {},
   "outputs": [
    {
     "name": "stdout",
     "output_type": "stream",
     "text": [
      "<class 'numpy.dtypes.Int64DType'>\n",
      "<class 'numpy.dtypes.Float64DType'>\n"
     ]
    }
   ],
   "source": [
    "import pandas as pd\n",
    "\n",
    "# Sample DataFrame\n",
    "data = {\"A\": [1, 2, 3], \"B\": [1.5, 2.5, 3.5], \"C\": [\"x\", \"y\", \"z\"]}\n",
    "\n",
    "df = pd.DataFrame(data)\n",
    "\n",
    "# Get the dtype of column 'A'\n",
    "print(type(df[\"A\"].dtype))  # Output: int64\n",
    "\n",
    "# Get the dtype of column 'B'\n",
    "print(type(df[\"B\"].dtype))  # Output: float64"
   ]
  },
  {
   "cell_type": "code",
   "execution_count": 5,
   "id": "fb901ad0-e3f8-42e7-b8c1-aa549cf18d27",
   "metadata": {},
   "outputs": [],
   "source": [
    "import numpy.typing as npt\n",
    "import numpy as np"
   ]
  },
  {
   "cell_type": "code",
   "execution_count": 6,
   "id": "d4aacdff-804d-4cf6-9c37-80de28fc9e23",
   "metadata": {},
   "outputs": [
    {
     "ename": "TypeError",
     "evalue": "Cannot interpret 'CategoricalDtype(categories=['admin.', 'blue-collar', 'entrepreneur', 'housemaid',\n                  'management', 'retired', 'self-employed', 'services',\n                  'student', 'technician', 'unemployed', 'unknown'],\n, ordered=False, categories_dtype=object)' as a data type",
     "output_type": "error",
     "traceback": [
      "\u001b[1;31m---------------------------------------------------------------------------\u001b[0m",
      "\u001b[1;31mTypeError\u001b[0m                                 Traceback (most recent call last)",
      "Cell \u001b[1;32mIn[6], line 1\u001b[0m\n\u001b[1;32m----> 1\u001b[0m \u001b[43mnp\u001b[49m\u001b[38;5;241;43m.\u001b[39;49m\u001b[43missubdtype\u001b[49m\u001b[43m(\u001b[49m\u001b[43mdataset\u001b[49m\u001b[43m[\u001b[49m\u001b[38;5;124;43m'\u001b[39;49m\u001b[38;5;124;43mV2\u001b[39;49m\u001b[38;5;124;43m'\u001b[39;49m\u001b[43m]\u001b[49m\u001b[38;5;241;43m.\u001b[39;49m\u001b[43mdtype\u001b[49m\u001b[43m,\u001b[49m\u001b[43m \u001b[49m\u001b[43mnp\u001b[49m\u001b[38;5;241;43m.\u001b[39;49m\u001b[43mfloating\u001b[49m\u001b[43m)\u001b[49m\n",
      "File \u001b[1;32m~\\AppData\\Local\\pypoetry\\Cache\\virtualenvs\\automl-5F_Va6Ro-py3.13\\Lib\\site-packages\\numpy\\_core\\numerictypes.py:530\u001b[0m, in \u001b[0;36missubdtype\u001b[1;34m(arg1, arg2)\u001b[0m\n\u001b[0;32m    473\u001b[0m \u001b[38;5;250m\u001b[39m\u001b[38;5;124mr\u001b[39m\u001b[38;5;124;03m\"\"\"\u001b[39;00m\n\u001b[0;32m    474\u001b[0m \u001b[38;5;124;03mReturns True if first argument is a typecode lower/equal in type hierarchy.\u001b[39;00m\n\u001b[0;32m    475\u001b[0m \n\u001b[1;32m   (...)\u001b[0m\n\u001b[0;32m    527\u001b[0m \n\u001b[0;32m    528\u001b[0m \u001b[38;5;124;03m\"\"\"\u001b[39;00m\n\u001b[0;32m    529\u001b[0m \u001b[38;5;28;01mif\u001b[39;00m \u001b[38;5;129;01mnot\u001b[39;00m issubclass_(arg1, generic):\n\u001b[1;32m--> 530\u001b[0m     arg1 \u001b[38;5;241m=\u001b[39m \u001b[43mdtype\u001b[49m\u001b[43m(\u001b[49m\u001b[43marg1\u001b[49m\u001b[43m)\u001b[49m\u001b[38;5;241m.\u001b[39mtype\n\u001b[0;32m    531\u001b[0m \u001b[38;5;28;01mif\u001b[39;00m \u001b[38;5;129;01mnot\u001b[39;00m issubclass_(arg2, generic):\n\u001b[0;32m    532\u001b[0m     arg2 \u001b[38;5;241m=\u001b[39m dtype(arg2)\u001b[38;5;241m.\u001b[39mtype\n",
      "\u001b[1;31mTypeError\u001b[0m: Cannot interpret 'CategoricalDtype(categories=['admin.', 'blue-collar', 'entrepreneur', 'housemaid',\n                  'management', 'retired', 'self-employed', 'services',\n                  'student', 'technician', 'unemployed', 'unknown'],\n, ordered=False, categories_dtype=object)' as a data type"
     ]
    }
   ],
   "source": [
    "np.issubdtype(dataset[\"V2\"].dtype, np.floating)"
   ]
  },
  {
   "cell_type": "code",
   "execution_count": 7,
   "id": "229e79c7-6ce3-4494-bc77-01171caaf09b",
   "metadata": {},
   "outputs": [
    {
     "data": {
      "text/plain": [
       "CategoricalDtype(categories=['admin.', 'blue-collar', 'entrepreneur', 'housemaid',\n",
       "                  'management', 'retired', 'self-employed', 'services',\n",
       "                  'student', 'technician', 'unemployed', 'unknown'],\n",
       ", ordered=False, categories_dtype=object)"
      ]
     },
     "execution_count": 7,
     "metadata": {},
     "output_type": "execute_result"
    }
   ],
   "source": [
    "dataset[\"V2\"].dtype"
   ]
  },
  {
   "cell_type": "code",
   "execution_count": 9,
   "id": "40503dc9-264f-4c9b-b45b-929f260822a7",
   "metadata": {},
   "outputs": [
    {
     "ename": "TypeError",
     "evalue": "Cannot interpret 'CategoricalDtype(categories=['admin.', 'blue-collar', 'entrepreneur', 'housemaid',\n                  'management', 'retired', 'self-employed', 'services',\n                  'student', 'technician', 'unemployed', 'unknown'],\n, ordered=False, categories_dtype=object)' as a data type",
     "output_type": "error",
     "traceback": [
      "\u001b[1;31m---------------------------------------------------------------------------\u001b[0m",
      "\u001b[1;31mTypeError\u001b[0m                                 Traceback (most recent call last)",
      "Cell \u001b[1;32mIn[9], line 1\u001b[0m\n\u001b[1;32m----> 1\u001b[0m \u001b[43mnp\u001b[49m\u001b[38;5;241;43m.\u001b[39;49m\u001b[43missubdtype\u001b[49m\u001b[43m(\u001b[49m\u001b[43mdataset\u001b[49m\u001b[43m[\u001b[49m\u001b[38;5;124;43m'\u001b[39;49m\u001b[38;5;124;43mV2\u001b[39;49m\u001b[38;5;124;43m'\u001b[39;49m\u001b[43m]\u001b[49m\u001b[38;5;241;43m.\u001b[39;49m\u001b[43mdtype\u001b[49m\u001b[43m,\u001b[49m\u001b[43m \u001b[49m\u001b[43mnp\u001b[49m\u001b[38;5;241;43m.\u001b[39;49m\u001b[43minteger\u001b[49m\u001b[43m)\u001b[49m\n",
      "File \u001b[1;32m~\\AppData\\Local\\pypoetry\\Cache\\virtualenvs\\automl-5F_Va6Ro-py3.13\\Lib\\site-packages\\numpy\\_core\\numerictypes.py:530\u001b[0m, in \u001b[0;36missubdtype\u001b[1;34m(arg1, arg2)\u001b[0m\n\u001b[0;32m    473\u001b[0m \u001b[38;5;250m\u001b[39m\u001b[38;5;124mr\u001b[39m\u001b[38;5;124;03m\"\"\"\u001b[39;00m\n\u001b[0;32m    474\u001b[0m \u001b[38;5;124;03mReturns True if first argument is a typecode lower/equal in type hierarchy.\u001b[39;00m\n\u001b[0;32m    475\u001b[0m \n\u001b[1;32m   (...)\u001b[0m\n\u001b[0;32m    527\u001b[0m \n\u001b[0;32m    528\u001b[0m \u001b[38;5;124;03m\"\"\"\u001b[39;00m\n\u001b[0;32m    529\u001b[0m \u001b[38;5;28;01mif\u001b[39;00m \u001b[38;5;129;01mnot\u001b[39;00m issubclass_(arg1, generic):\n\u001b[1;32m--> 530\u001b[0m     arg1 \u001b[38;5;241m=\u001b[39m \u001b[43mdtype\u001b[49m\u001b[43m(\u001b[49m\u001b[43marg1\u001b[49m\u001b[43m)\u001b[49m\u001b[38;5;241m.\u001b[39mtype\n\u001b[0;32m    531\u001b[0m \u001b[38;5;28;01mif\u001b[39;00m \u001b[38;5;129;01mnot\u001b[39;00m issubclass_(arg2, generic):\n\u001b[0;32m    532\u001b[0m     arg2 \u001b[38;5;241m=\u001b[39m dtype(arg2)\u001b[38;5;241m.\u001b[39mtype\n",
      "\u001b[1;31mTypeError\u001b[0m: Cannot interpret 'CategoricalDtype(categories=['admin.', 'blue-collar', 'entrepreneur', 'housemaid',\n                  'management', 'retired', 'self-employed', 'services',\n                  'student', 'technician', 'unemployed', 'unknown'],\n, ordered=False, categories_dtype=object)' as a data type"
     ]
    }
   ],
   "source": [
    "np.issubdtype(dataset[\"V2\"].dtype, np.integer)"
   ]
  },
  {
   "cell_type": "code",
   "execution_count": null,
   "id": "ea8dff6a-62b8-424b-a0b6-2dc0c23a03f8",
   "metadata": {},
   "outputs": [],
   "source": []
  }
 ],
 "metadata": {
  "kernelspec": {
   "display_name": "Python 3 (ipykernel)",
   "language": "python",
   "name": "python3"
  },
  "language_info": {
   "codemirror_mode": {
    "name": "ipython",
    "version": 3
   },
   "file_extension": ".py",
   "mimetype": "text/x-python",
   "name": "python",
   "nbconvert_exporter": "python",
   "pygments_lexer": "ipython3",
   "version": "3.13.0b3"
  }
 },
 "nbformat": 4,
 "nbformat_minor": 5
}
